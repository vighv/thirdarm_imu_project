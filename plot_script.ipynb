{
 "cells": [
  {
   "cell_type": "code",
   "execution_count": 1,
   "metadata": {
    "collapsed": true
   },
   "outputs": [],
   "source": [
    "from sklearn.preprocessing import StandardScaler\n",
    "import numpy as np\n",
    "from sklearn.linear_model import LinearRegression\n",
    "from sklearn.svm import SVR\n",
    "from sklearn.metrics import r2_score, mean_squared_error\n",
    "from sklearn.neural_network import MLPRegressor\n",
    "import matplotlib.pyplot as plt\n",
    "import util\n",
    "from sklearn.multioutput import MultiOutputRegressor\n",
    "from numpy import linalg as LA\n",
    "from baseline import MeanRegressor\n",
    "import blender_diff\n",
    "\n",
    "VICON_FREQ = 30"
   ]
  },
  {
   "cell_type": "code",
   "execution_count": 2,
   "metadata": {},
   "outputs": [],
   "source": [
    "def true_line_pred_scatter(y_test, y_pred, yd, title):\n",
    "    \"\"\"\n",
    "    Plot all test data as line plot and prediction as scatter\n",
    "    :param y_test: test data\n",
    "    :param y_pred: prediction data\n",
    "    :param yd: dimension index of y\n",
    "    :param title: plot title\n",
    "    \"\"\"\n",
    "    label = 'y_' + str(yd + 1)\n",
    "    label_true = label + ' true'\n",
    "    label_pred = label + ' predicted'\n",
    "    shape = y_test.shape\n",
    "    plt.plot(np.arange(shape[0]) / 30, y_test[:, yd], label=label_true)\n",
    "    plt.scatter(np.arange(shape[0])/30, y_pred, 8, 'r', alpha=0.7, label=label_pred)\n",
    "    plt.title(title)\n",
    "    plt.xlabel('Time (s)')\n",
    "    plt.ylabel('Value')\n",
    "    plt.legend()\n",
    "    plt.show()"
   ]
  },
  {
   "cell_type": "code",
   "execution_count": 4,
   "metadata": {},
   "outputs": [],
   "source": [
    "def plot_rmse_series(rmse, names):\n",
    "    \"\"\"\n",
    "    Plot RMSE values in time series\n",
    "    :param rmse: numpy array of size n_models x n_rows\n",
    "    \"\"\"\n",
    "    count = 100\n",
    "    for yd in range(rmse.shape[-1]):\n",
    "        for i, name in enumerate(names):\n",
    "            plt.plot(np.arange(count) / VICON_FREQ, rmse[i, :count, yd])\n",
    "        plt.legend(names)\n",
    "        plt.show()"
   ]
  },
  {
   "cell_type": "code",
   "execution_count": 3,
   "metadata": {},
   "outputs": [],
   "source": [
    "XFILE = 'data/imu_proc01-Feb-2018.csv'\n",
    "YFILE = 'data/vicon_proc01-Feb-2018.csv'\n",
    "X = np.genfromtxt(XFILE, delimiter=',')\n",
    "X = X[:, 10:]\n",
    "y = np.genfromtxt(YFILE, delimiter=',')\n",
    "perm = [1, 2, 0, 4, 3]  # permutation of cols\n",
    "y = y[:, perm]\n",
    "y[:, 3:5] = -y[:, 3:5]"
   ]
  },
  {
   "cell_type": "code",
   "execution_count": 4,
   "metadata": {},
   "outputs": [],
   "source": [
    "# Split train and test set\n",
    "X_train, X_test, y_train, y_test = util.test_split(X, y, 1000, 0.1)\n",
    "scaler = StandardScaler().fit(X_train)\n",
    "X_train = scaler.transform(X_train)\n",
    "X_test = scaler.transform(X_test)\n",
    "y_test_idx = y_test[:, -1]"
   ]
  },
  {
   "cell_type": "code",
   "execution_count": 5,
   "metadata": {},
   "outputs": [],
   "source": [
    "mlp = MLPRegressor(500, max_iter=1000, alpha=0.1)\n",
    "svr = SVR(C=10, gamma=0.1, epsilon=1)\n",
    "svr = MultiOutputRegressor(svr, n_jobs=-1)\n",
    "mean = MeanRegressor()\n",
    "models = [svr, mlp, mean]"
   ]
  },
  {
   "cell_type": "code",
   "execution_count": 6,
   "metadata": {},
   "outputs": [],
   "source": [
    "names = ['SVM', 'MLP', 'Mean']\n",
    "yd_names = ['Shoulder x', 'Shoulder y', 'Shoulder z', 'Elbow y', 'Elbow z']"
   ]
  },
  {
   "cell_type": "code",
   "execution_count": 8,
   "metadata": {},
   "outputs": [],
   "source": [
    "for model in models:\n",
    "    model.fit(X_train, y_train)"
   ]
  },
  {
   "cell_type": "code",
   "execution_count": 9,
   "metadata": {},
   "outputs": [],
   "source": [
    "y_pred = np.zeros((len(models), y_test.shape[0], y_test.shape[1]))\n",
    "for i, model in enumerate(models):\n",
    "    y_pred[i] = util.moving_avg_smooth(model.predict(X_test))"
   ]
  },
  {
   "cell_type": "code",
   "execution_count": 10,
   "metadata": {},
   "outputs": [],
   "source": [
    "rmse = np.zeros((len(models), y_test.shape[-1]))\n",
    "for i, model in enumerate(models):\n",
    "    rmse[i] = mean_squared_error(y_test, y_pred[i], multioutput='raw_values')\n",
    "rmse = np.sqrt(rmse)"
   ]
  },
  {
   "cell_type": "code",
   "execution_count": 13,
   "metadata": {},
   "outputs": [],
   "source": [
    "# Plot bar graphs showing RMSE mean and std\n",
    "N = 5\n",
    "ind = np.arange(N)  # the x locations for the groups\n",
    "width = 0.25       # the width of the bars\n",
    "colors = ['red', 'green', 'black']\n",
    "fig, ax = plt.subplots()\n",
    "rects = []\n",
    "for i in range(rmse.shape[0]):\n",
    "    rects.append(ax.bar(ind + i*width, rmse[i], width, color=colors[i]))\n",
    "\n",
    "# add some text for labels, title and axes ticks\n",
    "ax.set_ylabel('RMSE (deg)')\n",
    "ax.set_xticks(ind + width / 2)\n",
    "ax.set_xticklabels(yd_names)\n",
    "ax.legend(rects, names)\n",
    "plt.savefig('results/rmse.png')\n",
    "plt.show()"
   ]
  },
  {
   "cell_type": "code",
   "execution_count": 11,
   "metadata": {},
   "outputs": [],
   "source": [
    "r2 = np.zeros_like(rmse)\n",
    "for i, model in enumerate(models[:2]):\n",
    "    r2[i] = r2_score(y_test, y_pred[i], multioutput='raw_values')"
   ]
  },
  {
   "cell_type": "code",
   "execution_count": 12,
   "metadata": {},
   "outputs": [],
   "source": [
    "# Plot bar graphs showing R2 scores\n",
    "N = 5\n",
    "ind = np.arange(N)  # the x locations for the groups\n",
    "width = 0.35       # the width of the bars\n",
    "colors = ['red', 'green']\n",
    "fig, ax = plt.subplots()\n",
    "rects = []\n",
    "for i in range(r2.shape[0]-1):\n",
    "    rects.append(ax.bar(ind + i*width, r2[i], width, color=colors[i]))\n",
    "\n",
    "# add some text for labels, title and axes ticks\n",
    "ax.set_ylabel('R2 score')\n",
    "ax.set_xticks(ind + width / 2)\n",
    "ax.set_xticklabels(yd_names)\n",
    "ax.legend(rects, names[:2])\n",
    "plt.savefig('results/r2.png')\n",
    "plt.show()\n"
   ]
  },
  {
   "cell_type": "code",
   "execution_count": 10,
   "metadata": {},
   "outputs": [],
   "source": [
    "# plot true vs prediction scatter\n",
    "n_models = len(models) - 1\n",
    "n_data = y_test.shape[1]\n",
    "fig, ax = plt.subplots(n_data, n_models)\n",
    "for m in range(n_models):\n",
    "    for i in range(y_test.shape[1]):\n",
    "        label = yd_names[i]\n",
    "        label_true = label + ' true'\n",
    "        label_pred = label + ' predicted'\n",
    "        y_true = y_test[:, i]\n",
    "        pred = y_pred[m, :, i]\n",
    "        high = max(pred.max(), y_true.max())\n",
    "        low = min(pred.min(), y_true.min())\n",
    "        ax[i, m].plot([low, high], [low, high])\n",
    "        ax[i, m].scatter(y_true, pred, 2)\n",
    "        ax[i, m].set_xlabel(label_true)\n",
    "        if m == 0:\n",
    "            ax[i, m].set_ylabel(label_pred)\n",
    "        if i == 0:\n",
    "            ax[i, m].set_title(names[m])\n",
    "fig.set_figheight(15)\n",
    "fig.show()"
   ]
  },
  {
   "cell_type": "code",
   "execution_count": 11,
   "metadata": {},
   "outputs": [],
   "source": [
    "# plot value distribution\n",
    "bins = 20\n",
    "X_hist = np.zeros((X.shape[1], bins))\n",
    "y_hist = np.zeros((y.shape[1], bins))\n",
    "for i in range(X.shape[1]):\n",
    "    X_hist[i], _ = np.histogram(X[:, i], bins)\n",
    "for i in range(y.shape[1]):\n",
    "    y_hist[i], _ = np.histogram(y[:, i], bins)\n",
    "\n",
    "fig, ax = plt.subplots(3, 2)\n",
    "X_min = X.min(0)\n",
    "X_max = X.max(0)\n",
    "y_min = y.min(0)\n",
    "y_max = y.max(0)\n",
    "# angles\n",
    "for i in range(4):\n",
    "    ax[0, 0].plot(np.linspace(X_min[i], X_max[i], bins), X_hist[i], 'o-')\n",
    "ax[0, 0].set_xlabel('IMU Wrist Angles')\n",
    "ax[0, 0].set_ylabel('Frequency')\n",
    "ax[0, 0].legend((r'$q_w$', r'$q_x$', r'$q_y$', r'$q_z$'))\n",
    "\n",
    "# angular velocity\n",
    "for i in range(4, 7):\n",
    "    ax[1, 0].plot(np.linspace(X_min[i], X_max[i], bins), X_hist[i], 'o-')\n",
    "ax[1, 0].set_xlabel('IMU Wrist Angular Velocity (deg/s)')\n",
    "ax[1, 0].set_ylabel('Frequency')\n",
    "ax[1, 0].legend((r'$\\omega_x$', r'$\\omega_y$', r'$\\omega_z$'))\n",
    "\n",
    "# angular acceleration\n",
    "for i in range(7, 10):\n",
    "    ax[2, 0].plot(np.linspace(X_min[i], X_max[i], bins), X_hist[i], 'o-')\n",
    "ax[2, 0].set_xlabel('IMU Wrist Angular Acceleration (deg/' + r'$s^2$' + ')')\n",
    "ax[2, 0].set_ylabel('Frequency')\n",
    "ax[2, 0].legend((r'$a_x$', r'$a_y$', r'$a_z$'))\n",
    "\n",
    "# Vicon shoulder\n",
    "for i in range(3):\n",
    "    ax[0, 1].plot(np.linspace(y_min[i], y_max[i], bins), y_hist[i], 'o-')\n",
    "ax[0, 1].set_xlabel('MoCap Shoulder Angles (deg)')\n",
    "ax[0, 1].legend((r'$\\theta_x$', r'$\\theta_y$', r'$\\theta_z$'))\n",
    "\n",
    "# Vicon shoulder\n",
    "for i in range(3, 5):\n",
    "    ax[1, 1].plot(np.linspace(y_min[i], y_max[i], bins), y_hist[i], 'o-')\n",
    "ax[1, 1].set_xlabel('MoCap Elbow Angles (deg)')\n",
    "ax[1, 1].legend((r'$\\theta_y$', r'$\\theta_z$'))\n",
    "\n",
    "ax[2, 1].set_visible(False)\n",
    "fig.set_figwidth(7)\n",
    "fig.set_figheight(11)\n",
    "plt.savefig('../journal_imu_tracking/images/distribution.png')\n",
    "plt.show()"
   ]
  },
  {
   "cell_type": "code",
   "execution_count": null,
   "metadata": {},
   "outputs": [],
   "source": []
  }
 ],
 "metadata": {
  "kernelspec": {
   "display_name": "Python 2",
   "language": "python",
   "name": "python2"
  },
  "language_info": {
   "codemirror_mode": {
    "name": "ipython",
    "version": 2
   },
   "file_extension": ".py",
   "mimetype": "text/x-python",
   "name": "python",
   "nbconvert_exporter": "python",
   "pygments_lexer": "ipython2",
   "version": "2.7.6"
  }
 },
 "nbformat": 4,
 "nbformat_minor": 0
}
