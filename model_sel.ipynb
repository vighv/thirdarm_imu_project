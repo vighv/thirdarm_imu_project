{
 "cells": [
  {
   "cell_type": "code",
   "execution_count": 1,
   "metadata": {
    "collapsed": true
   },
   "outputs": [],
   "source": [
    "from sklearn.preprocessing import StandardScaler, MinMaxScaler\n",
    "import numpy as np\n",
    "from sklearn.svm import SVR\n",
    "from sklearn.linear_model import BayesianRidge\n",
    "from sklearn.model_selection import GridSearchCV\n",
    "from sklearn.neural_network import MLPRegressor\n",
    "import util"
   ]
  },
  {
   "cell_type": "code",
   "execution_count": 2,
   "metadata": {},
   "outputs": [],
   "source": [
    "XFILE = 'data/imu_proc01-Feb-2018.csv'\n",
    "YFILE = 'data/vicon_proc01-Feb-2018.csv'"
   ]
  },
  {
   "cell_type": "code",
   "execution_count": 3,
   "metadata": {},
   "outputs": [],
   "source": [
    "def svm_model_sel(X_train, y_train):\n",
    "    # kernels = ['rbf', 'linear', 'poly']\n",
    "    Cs = [0.1, 1, 10, 100]\n",
    "    gammas = [0.001, 0.01, 0.1, 1]\n",
    "    epsilons = [0.01, 0.1, 1, 10]\n",
    "    param_grid = {'C': Cs, 'epsilon': epsilons, 'gamma': gammas}\n",
    "    model = SVR()\n",
    "    param_search(X_train, y_train, model, param_grid)"
   ]
  },
  {
   "cell_type": "code",
   "execution_count": 4,
   "metadata": {},
   "outputs": [],
   "source": [
    "def bayesian_model_sel(X_train, y_train):\n",
    "    alpha1s = [1e-6, 1e-5, 1e-4, 0.001, 0.01, 0.1, 1, 10]\n",
    "    alpha2s = [1e-9, 1e-8, 1e-7, 1e-6, 1e-5]\n",
    "    lambda1s = [1e-11, 1e-10, 1e-9, 1e-8, 1e-7, 1e-6]\n",
    "    lambda2s = [1e-6, 1e-5, 1e-4, 0.001, 0.01]\n",
    "    param_grid = {'alpha_1': alpha1s, 'alpha_2': alpha2s,\n",
    "                  'lambda_1': lambda1s, 'lambda_2': lambda2s}\n",
    "    model = BayesianRidge()\n",
    "    param_search(X_train, y_train, model, param_grid)"
   ]
  },
  {
   "cell_type": "code",
   "execution_count": 5,
   "metadata": {},
   "outputs": [],
   "source": [
    "def mlp_model_sel(X_train, y_train):\n",
    "    hidden_sizes = [10, 100, 500, 1000]\n",
    "    activations = ['relu', 'tanh']\n",
    "    alphas = [0.01, 0.1, 1, 10]\n",
    "    # max_iters = [100, 500, 1500]\n",
    "    param_grid = {'hidden_layer_sizes': hidden_sizes,\n",
    "                  'alpha': alphas,\n",
    "                  'activation': activations}\n",
    "    model = MLPRegressor(max_iter=500)\n",
    "    param_search(X_train, y_train, model, param_grid)"
   ]
  },
  {
   "cell_type": "code",
   "execution_count": 6,
   "metadata": {},
   "outputs": [],
   "source": [
    "def param_search(X_train, y_train, model, param_grid):\n",
    "    for yd in range(y_train.shape[1]):\n",
    "        print('Searching params for y_' + str(yd) + '...')\n",
    "        grid_search = GridSearchCV(model, param_grid, 'neg_mean_squared_error', n_jobs=-1, cv=10)\n",
    "        grid_search.fit(X_train, y_train[:, yd])\n",
    "        best_params = grid_search.best_params_\n",
    "        print(best_params)\n",
    "        print('best score:', grid_search.best_score_)"
   ]
  },
  {
   "cell_type": "code",
   "execution_count": 7,
   "metadata": {},
   "outputs": [],
   "source": [
    "X = np.genfromtxt(XFILE, delimiter=',')\n",
    "X = X[:, 10:]  # wrist only\n",
    "y = np.genfromtxt(YFILE, delimiter=',')"
   ]
  },
  {
   "cell_type": "code",
   "execution_count": 8,
   "metadata": {},
   "outputs": [],
   "source": [
    "X_train, X_test, y_train, y_test = util.test_split(X, y, 1000, 0.1)\n",
    "scaler = StandardScaler().fit(X_train)\n",
    "# scaler = MinMaxScaler().fit(X_train)\n",
    "X_train = scaler.transform(X_train)\n",
    "X_test = scaler.transform(X_test)"
   ]
  },
  {
   "cell_type": "code",
   "execution_count": null,
   "metadata": {},
   "outputs": [],
   "source": [
    "print('===SVM===')\n",
    "svm_model_sel(X_train, y_train)"
   ]
  }
 ],
 "metadata": {
  "kernelspec": {
   "display_name": "Python 2",
   "language": "python",
   "name": "python2"
  },
  "language_info": {
   "codemirror_mode": {
    "name": "ipython",
    "version": 2
   },
   "file_extension": ".py",
   "mimetype": "text/x-python",
   "name": "python",
   "nbconvert_exporter": "python",
   "pygments_lexer": "ipython2",
   "version": "2.7.6"
  }
 },
 "nbformat": 4,
 "nbformat_minor": 0
}
