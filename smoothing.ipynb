{
 "cells": [
  {
   "cell_type": "code",
   "execution_count": 1,
   "metadata": {
    "collapsed": true
   },
   "outputs": [],
   "source": [
    "import numpy as np\n",
    "from scipy.ndimage.filters import gaussian_filter1d\n",
    "import matplotlib.pyplot as plt\n",
    "from sklearn.metrics import r2_score"
   ]
  },
  {
   "cell_type": "code",
   "execution_count": 67,
   "metadata": {},
   "outputs": [],
   "source": [
    "y_pred = np.genfromtxt('data/SVM-pred-vicon_proc01-Feb-2018.csv', delimiter=',') \n",
    "y_true = np.genfromtxt('data/SVM-true-vicon_proc01-Feb-2018.csv', delimiter=',')"
   ]
  },
  {
   "cell_type": "code",
   "execution_count": 74,
   "metadata": {},
   "outputs": [],
   "source": [
    "y_gauss = gaussian_filter1d(y_pred, 2.5, axis=0)"
   ]
  },
  {
   "cell_type": "code",
   "execution_count": 75,
   "metadata": {},
   "outputs": [
    {
     "name": "stdout",
     "output_type": "stream",
     "text": [
      "[ 0.6961133   0.53619898  0.83221213  0.83759985  0.64987566]\n0.710399982552\n[ 0.66792911  0.47798366  0.83755114  0.81324324  0.59431323]\n0.678204075985\n"
     ]
    }
   ],
   "source": [
    "print(r2_score(y_true, y_gauss, multioutput='raw_values'))\n",
    "print(r2_score(y_true, y_gauss))\n",
    "print(r2_score(y_true, y_pred, multioutput='raw_values'))\n",
    "print(r2_score(y_true, y_pred))"
   ]
  },
  {
   "cell_type": "code",
   "execution_count": 83,
   "metadata": {
    "collapsed": false
   },
   "outputs": [],
   "source": [
    "plt.plot(y_true[:, 4])\n",
    "plt.plot(y_pred[:, 4])\n",
    "plt.plot(y_gauss[:, 4])\n",
    "plt.xlabel('Time')\n",
    "plt.ylabel('Angle')\n",
    "plt.legend(('Gound truth', 'Prediction', 'Smoothed prediction'))\n",
    "# plt.savefig('data/svm_smoothing.png')\n",
    "plt.show()"
   ]
  },
  {
   "cell_type": "code",
   "execution_count": 20,
   "metadata": {},
   "outputs": [
    {
     "data": {
      "image/png": "[encoded data removed]",
      "text/plain": [
       "<matplotlib.figure.Figure at 0x26074a789e8>"
      ]
     },
     "metadata": {},
     "output_type": "display_data"
    }
   ],
   "source": [
    "r2_raw = r2_score(y_true, y_pred, multioutput='raw_values')\n",
    "r2_gauss = r2_score(y_true, y_gauss, multioutput='raw_values')\n",
    "n_groups = 5\n",
    "\n",
    "fig, ax = plt.subplots()\n",
    "index = np.arange(n_groups)\n",
    "bar_width = 0.35\n",
    "\n",
    "opacity = 0.4\n",
    "error_config = {'ecolor': '0.3'}\n",
    "\n",
    "rects1 = ax.bar(index, r2_raw, bar_width,\n",
    "                alpha=opacity, color='b',\n",
    "                label='Unsmoothed')\n",
    "\n",
    "rects2 = ax.bar(index + bar_width, r2_gauss, bar_width,\n",
    "                alpha=opacity, color='r',\n",
    "                label='Smoothed')\n",
    "\n",
    "ax.set_ylabel('R2 score')\n",
    "ax.set_xticks(index + bar_width / 2)\n",
    "ax.set_xticklabels(('arm_x', 'arm_y', 'arm_z', 'wrist_x', 'wrist_y'))\n",
    "ax.legend()\n",
    "\n",
    "fig.tight_layout()\n",
    "plt.savefig('data/r2_smooth.png')"
   ]
  },
  {
   "cell_type": "code",
   "execution_count": 5,
   "metadata": {},
   "outputs": [],
   "source": [
    "np.savetxt('data/SVM-pred-smooth-01-Feb-2018.csv', y_smooth, '%.5f', ',')"
   ]
  },
  {
   "cell_type": "code",
   "execution_count": 6,
   "metadata": {},
   "outputs": [
    {
     "data": {
      "text/plain": [
       "(473, 5)"
      ]
     },
     "execution_count": 6,
     "metadata": {},
     "output_type": "execute_result"
    }
   ],
   "source": [
    "y_smooth.shape"
   ]
  },
  {
   "cell_type": "code",
   "execution_count": 81,
   "metadata": {},
   "outputs": [],
   "source": [
    "# exponential moving average\n",
    "alpha = 0.38\n",
    "y_smooth = np.zeros_like(y_pred)\n",
    "y_smooth[0] = y_pred[0]\n",
    "for i in range(1, y_pred.shape[0]):\n",
    "    y_smooth[i] = alpha * y_pred[i] + (1 - alpha) * y_smooth[i - 1]"
   ]
  },
  {
   "cell_type": "code",
   "execution_count": 82,
   "metadata": {},
   "outputs": [
    {
     "name": "stdout",
     "output_type": "stream",
     "text": [
      "0.678204075985\n[ 0.66792911  0.47798366  0.83755114  0.81324324  0.59431323]\n0.722032306273\n[ 0.71468452  0.50064564  0.86540453  0.84712035  0.68230649]\n"
     ]
    }
   ],
   "source": [
    "print(r2_score(y_true, y_pred))\n",
    "print(r2_score(y_true, y_pred, multioutput='raw_values'))\n",
    "print(r2_score(y_true, y_smooth))\n",
    "print(r2_score(y_true, y_smooth, multioutput='raw_values'))"
   ]
  },
  {
   "cell_type": "code",
   "execution_count": 87,
   "metadata": {},
   "outputs": [],
   "source": [
    "plt.plot(y_true[:, 4])\n",
    "plt.plot(y_pred[:, 4])\n",
    "plt.plot(y_smooth[:, 4])\n",
    "plt.xlabel('Time')\n",
    "plt.ylabel('Angle')\n",
    "plt.legend(('Gound truth', 'Prediction', 'Smoothed prediction'))\n",
    "plt.savefig('data/svm_wrist_smooth.png')\n",
    "# plt.show()"
   ]
  },
  {
   "cell_type": "code",
   "execution_count": 86,
   "metadata": {},
   "outputs": [],
   "source": [
    "np.savetxt('data/SVM-pred-wrist-smooth-Feb-2018.csv', y_smooth, delimiter=',')"
   ]
  },
  {
   "cell_type": "code",
   "execution_count": null,
   "metadata": {},
   "outputs": [],
   "source": []
  }
 ],
 "metadata": {
  "kernelspec": {
   "display_name": "Python 2",
   "language": "python",
   "name": "python2"
  },
  "language_info": {
   "codemirror_mode": {
    "name": "ipython",
    "version": 2
   },
   "file_extension": ".py",
   "mimetype": "text/x-python",
   "name": "python",
   "nbconvert_exporter": "python",
   "pygments_lexer": "ipython2",
   "version": "2.7.6"
  }
 },
 "nbformat": 4,
 "nbformat_minor": 0
}
