{
 "cells": [
  {
   "cell_type": "code",
   "execution_count": 1,
   "metadata": {
    "collapsed": true
   },
   "outputs": [],
   "source": [
    "from sklearn.neural_network import MLPRegressor\n",
    "from sklearn.preprocessing import StandardScaler\n",
    "import numpy as np\n",
    "from sklearn.svm import SVR\n",
    "from sklearn.multioutput import MultiOutputRegressor\n",
    "import util\n",
    "from sklearn.linear_model import LinearRegression\n",
    "from timeit import timeit\n",
    "import matplotlib.pyplot as plt"
   ]
  },
  {
   "cell_type": "code",
   "execution_count": 2,
   "metadata": {},
   "outputs": [
    {
     "name": "stdout",
     "output_type": "stream",
     "text": [
      "Input size: (4731, 10)\nOutput size: (4731, 5)\n"
     ]
    }
   ],
   "source": [
    "XFILE = 'data/imu_proc01-Feb-2018.csv'\n",
    "YFILE = 'data/vicon_proc01-Feb-2018.csv'\n",
    "X = np.genfromtxt(XFILE, delimiter=',')\n",
    "X = X[:, 10:]  # wrist only\n",
    "print('Input size:', X.shape)\n",
    "y = np.genfromtxt(YFILE, delimiter=',')\n",
    "print('Output size:', y.shape)"
   ]
  },
  {
   "cell_type": "code",
   "execution_count": 3,
   "metadata": {},
   "outputs": [],
   "source": [
    "X_train, X_test, y_train, y_test = util.test_split(X, y, 1000, 0.1)\n",
    "scaler = StandardScaler().fit(X_train)\n",
    "X_train = scaler.transform(X_train)\n",
    "X_test = scaler.transform(X_test)"
   ]
  },
  {
   "cell_type": "code",
   "execution_count": 8,
   "metadata": {},
   "outputs": [],
   "source": [
    "mlp = MLPRegressor(500, 'relu', alpha=0.1, max_iter=1000)\n",
    "svr = SVR(C=10, gamma=0.1, epsilon=1, verbose=True)\n",
    "svr = MultiOutputRegressor(svr, n_jobs=-1)\n",
    "lr = LinearRegression()\n",
    "models = [svr, mlp, lr]\n",
    "names = ['SVM', 'MLP', 'LR']"
   ]
  },
  {
   "cell_type": "code",
   "execution_count": 7,
   "metadata": {},
   "outputs": [],
   "source": [
    "train_time = np.zeros(len(models))\n",
    "for i, model in enumerate(models):\n",
    "    train_time[i] = timeit(lambda: model.fit(X_train, y_train), number=10) / 10"
   ]
  },
  {
   "cell_type": "code",
   "execution_count": 9,
   "metadata": {},
   "outputs": [
    {
     "data": {
      "text/plain": [
       "array([  2.97416838e+00,   2.26871364e+01,   1.95673765e-03])"
      ]
     },
     "execution_count": 9,
     "metadata": {},
     "output_type": "execute_result"
    }
   ],
   "source": [
    "train_time"
   ]
  },
  {
   "cell_type": "code",
   "execution_count": 9,
   "metadata": {},
   "outputs": [],
   "source": [
    "for model in models:\n",
    "    model.fit(X_train, y_train)"
   ]
  },
  {
   "cell_type": "code",
   "execution_count": 14,
   "metadata": {},
   "outputs": [],
   "source": [
    "pred_time = np.zeros(len(models))\n",
    "iters = 10\n",
    "for i, model in enumerate(models):\n",
    "    pred_time[i] = timeit(lambda: model.predict(X_test), number=iters) / iters"
   ]
  },
  {
   "cell_type": "code",
   "execution_count": 14,
   "metadata": {},
   "outputs": [
    {
     "data": {
      "text/plain": [
       "array([  1.92861837e+00,   2.86696070e-03,   4.28641637e-05])"
      ]
     },
     "execution_count": 14,
     "metadata": {},
     "output_type": "execute_result"
    }
   ],
   "source": [
    "pred_time"
   ]
  },
  {
   "cell_type": "code",
   "execution_count": 29,
   "metadata": {},
   "outputs": [],
   "source": [
    "ind = np.arange(2)  # the x locations for the groups\n",
    "plt.bar(ind, train_time[:2])\n",
    "plt.ylabel('Training Time (s)')\n",
    "plt.xticks(ind, ('SVM', 'MLP'))\n",
    "plt.show()"
   ]
  },
  {
   "cell_type": "code",
   "execution_count": 30,
   "metadata": {},
   "outputs": [],
   "source": [
    "ind = np.arange(2)  # the x locations for the groups\n",
    "plt.bar(ind, pred_time[:2])\n",
    "plt.ylabel('Prediction Time (s)')\n",
    "plt.xticks(ind, ('SVM', 'MLP'))\n",
    "plt.show()"
   ]
  },
  {
   "cell_type": "code",
   "execution_count": 37,
   "metadata": {},
   "outputs": [],
   "source": [
    "N = 2\n",
    "ind = np.arange(N)  # the x locations for the groups\n",
    "width = 0.35       # the width of the bars\n",
    "\n",
    "fig, ax = plt.subplots()\n",
    "rects1 = ax.bar(ind, train_time[:2], width, color='black', log=True)\n",
    "rects2 = ax.bar(ind + width, pred_time[:2], width, color='grey', log=True)\n",
    "ax.set_ylabel('Time (s)')\n",
    "ax.set_xticks(ind + width / 2)\n",
    "ax.set_xticklabels(('SVM', 'MLP'))\n",
    "ax.legend((rects1[0], rects2[0]), ('Training', 'Prediction'))\n",
    "plt.savefig('results/model_time.png')"
   ]
  },
  {
   "cell_type": "code",
   "execution_count": 7,
   "metadata": {},
   "outputs": [
    {
     "data": {
      "text/plain": [
       "{'estimator': SVR(C=10, cache_size=200, coef0=0.0, degree=3, epsilon=1, gamma=0.1,\n   kernel='rbf', max_iter=-1, shrinking=True, tol=0.001, verbose=False),\n 'estimator__C': 10,\n 'estimator__cache_size': 200,\n 'estimator__coef0': 0.0,\n 'estimator__degree': 3,\n 'estimator__epsilon': 1,\n 'estimator__gamma': 0.1,\n 'estimator__kernel': 'rbf',\n 'estimator__max_iter': -1,\n 'estimator__shrinking': True,\n 'estimator__tol': 0.001,\n 'estimator__verbose': False,\n 'n_jobs': -1}"
      ]
     },
     "execution_count": 7,
     "metadata": {},
     "output_type": "execute_result"
    }
   ],
   "source": [
    "svr.get_params()"
   ]
  },
  {
   "cell_type": "code",
   "execution_count": null,
   "metadata": {},
   "outputs": [],
   "source": []
  }
 ],
 "metadata": {
  "kernelspec": {
   "display_name": "Python 2",
   "language": "python",
   "name": "python2"
  },
  "language_info": {
   "codemirror_mode": {
    "name": "ipython",
    "version": 2
   },
   "file_extension": ".py",
   "mimetype": "text/x-python",
   "name": "python",
   "nbconvert_exporter": "python",
   "pygments_lexer": "ipython2",
   "version": "2.7.6"
  }
 },
 "nbformat": 4,
 "nbformat_minor": 0
}
