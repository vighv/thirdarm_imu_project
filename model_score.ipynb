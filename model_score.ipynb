{
 "cells": [
  {
   "cell_type": "code",
   "execution_count": 1,
   "metadata": {},
   "outputs": [],
   "source": [
    "import numpy as np\n",
    "from sklearn.metrics import r2_score, mean_squared_error\n",
    "from sklearn.neural_network import MLPRegressor\n",
    "from sklearn.preprocessing import StandardScaler, MinMaxScaler\n",
    "import numpy as np\n",
    "from sklearn.svm import SVR\n",
    "from sklearn.model_selection import cross_val_score\n",
    "import util"
   ]
  },
  {
   "cell_type": "code",
   "execution_count": 3,
   "metadata": {},
   "outputs": [],
   "source": [
    "XFILE = 'data/imu_proc01-Feb-2018.csv'\n",
    "YFILE = 'data/vicon_proc01-Feb-2018.csv'\n",
    "# X_NOV = 'data/imu_proc09-Nov-2017.csv'\n",
    "# Y_NOV = 'data/vicon-9-nov.csv'"
   ]
  },
  {
   "cell_type": "code",
   "execution_count": 4,
   "metadata": {
    "collapsed": true
   },
   "outputs": [
    {
     "name": "stdout",
     "output_type": "stream",
     "text": [
      "Input size: (4731, 10)\nOutput size: (4731, 5)\n"
     ]
    }
   ],
   "source": [
    "X = np.genfromtxt(XFILE, delimiter=',')\n",
    "X = X[:, 10:]  # wrist only\n",
    "print('Input size:', X.shape)\n",
    "y = np.genfromtxt(YFILE, delimiter=',')\n",
    "print('Output size:', y.shape)"
   ]
  },
  {
   "cell_type": "code",
   "execution_count": 5,
   "metadata": {},
   "outputs": [],
   "source": [
    "X_train, X_test, y_train, y_test = util.test_split(X, y, 2000, 0.1)\n",
    "scaler = StandardScaler().fit(X_train)\n",
    "X_train = scaler.transform(X_train)\n",
    "X_test = scaler.transform(X_test)"
   ]
  },
  {
   "cell_type": "code",
   "execution_count": 6,
   "metadata": {},
   "outputs": [],
   "source": [
    "mlp = MLPRegressor(500, 'relu', max_iter=500, alpha=1)\n",
    "svr = SVR(C=10, gamma=0.1, epsilon=1)\n",
    "models = [svr, mlp]\n",
    "names = ['SVM', 'MLP']"
   ]
  },
  {
   "cell_type": "code",
   "execution_count": 11,
   "metadata": {},
   "outputs": [],
   "source": [
    "def test_score(model, X_train, X_test, y_train, y_test):\n",
    "    # Obtain test accuracy\n",
    "    y_pred = np.zeros_like(y_test)\n",
    "    for yd in range(y_test.shape[1]):\n",
    "        model.fit(X_train, y_train[:, yd])\n",
    "        y_pred[:, yd] = model.predict(X_test)\n",
    "    rmse = np.sqrt(mean_squared_error(y_test, y_pred, multioutput='raw_values'))\n",
    "    r2 = r2_score(y_test, y_pred, multioutput='raw_values')\n",
    "    print('Test:')\n",
    "    print('r2: ', '\\t'.join(map(str, r2)))\n",
    "    print('rmse:', '\\t'.join(map(str, rmse)))\n",
    "    # np.savetxt('data/' + names[i] + '-true-' + YFILE.replace('data/', ''), y_test, '%.5f', delimiter=',')\n",
    "    # np.savetxt('data/' + names[i] + '-pred-' + YFILE.replace('data/', ''), y_pred, '%.5f', delimiter=',')"
   ]
  },
  {
   "cell_type": "code",
   "execution_count": 12,
   "metadata": {},
   "outputs": [
    {
     "name": "stdout",
     "output_type": "stream",
     "text": [
      "===SVR===\nTest:\nr2:  0.70936359578\t0.74264176347\t0.304301615742\t0.827354523013\t-0.386012086995\nrmse: 6.56878969804\t5.64436480939\t7.11736176947\t5.63737121646\t5.29891334967\n"
     ]
    }
   ],
   "source": [
    "print('=== SVM ===')\n",
    "test_score(svr, X_train, X_test, y_train, y_test)"
   ]
  },
  {
   "cell_type": "code",
   "execution_count": null,
   "metadata": {},
   "outputs": [],
   "source": []
  }
 ],
 "metadata": {
  "kernelspec": {
   "display_name": "Python 2",
   "language": "python",
   "name": "python2"
  },
  "language_info": {
   "codemirror_mode": {
    "name": "ipython",
    "version": 2
   },
   "file_extension": ".py",
   "mimetype": "text/x-python",
   "name": "python",
   "nbconvert_exporter": "python",
   "pygments_lexer": "ipython2",
   "version": "2.7.6"
  }
 },
 "nbformat": 4,
 "nbformat_minor": 0
}
